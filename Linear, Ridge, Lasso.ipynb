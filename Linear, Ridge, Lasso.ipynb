{
  "nbformat": 4,
  "nbformat_minor": 0,
  "metadata": {
    "colab": {
      "name": "Welcome to Colaboratory",
      "provenance": [],
      "collapsed_sections": [],
      "toc_visible": true,
      "include_colab_link": true
    },
    "kernelspec": {
      "display_name": "Python 3",
      "name": "python3"
    }
  },
  "cells": [
    {
      "cell_type": "markdown",
      "metadata": {
        "id": "view-in-github",
        "colab_type": "text"
      },
      "source": [
        "<a href=\"https://colab.research.google.com/github/R-SIBE/Introduction-to-ML/blob/master/Linear%2C%20Ridge%2C%20Lasso.ipynb\" target=\"_parent\"><img src=\"https://colab.research.google.com/assets/colab-badge.svg\" alt=\"Open In Colab\"/></a>"
      ]
    },
    {
      "cell_type": "code",
      "metadata": {
        "id": "YX5_h_Wvhyca",
        "colab_type": "code",
        "colab": {
          "base_uri": "https://localhost:8080/",
          "height": 34
        },
        "outputId": "7d20291e-3ed1-4eb2-8f91-476b837ad89d"
      },
      "source": [
        "import mglearn\n",
        "from sklearn.datasets import load_boston\n",
        "X,y = mglearn.datasets.load_extended_boston()\n",
        "print(format(X.shape))"
      ],
      "execution_count": 29,
      "outputs": [
        {
          "output_type": "stream",
          "text": [
            "(506, 104)\n"
          ],
          "name": "stdout"
        }
      ]
    },
    {
      "cell_type": "code",
      "metadata": {
        "id": "7_ELqCIpjg8X",
        "colab_type": "code",
        "colab": {}
      },
      "source": [
        "from sklearn.model_selection import train_test_split\n",
        "from sklearn.linear_model import LinearRegression\n",
        "X_train,X_test,y_train,y_test = train_test_split(X,y,random_state=0)\n",
        "lr = LinearRegression().fit(X_train,y_train)"
      ],
      "execution_count": null,
      "outputs": []
    },
    {
      "cell_type": "code",
      "metadata": {
        "id": "N1gQk5sDj56r",
        "colab_type": "code",
        "colab": {
          "base_uri": "https://localhost:8080/",
          "height": 510
        },
        "outputId": "3fec0a4a-4e33-4893-9e3f-5a06137b56a6"
      },
      "source": [
        "print(\"lr.coef: {}\".format(lr.coef_))\n",
        "print(\"lr.intercept: {}\".format(lr.intercept_))\n",
        "print(\"Training Accuracy Rate: {}\".format(lr.score(X_train,y_train)))\n",
        "print(\"Test Accuracy Rate: {}\".format(lr.score(X_test,y_test)))"
      ],
      "execution_count": 6,
      "outputs": [
        {
          "output_type": "stream",
          "text": [
            "lr.coef: [-4.12710947e+02 -5.22432068e+01 -1.31898815e+02 -1.20041365e+01\n",
            " -1.55107129e+01  2.87163342e+01  5.47040992e+01 -4.95346659e+01\n",
            "  2.65823927e+01  3.70620316e+01 -1.18281674e+01 -1.80581965e+01\n",
            " -1.95246830e+01  1.22025403e+01  2.98078144e+03  1.50084257e+03\n",
            "  1.14187325e+02 -1.69700520e+01  4.09613691e+01 -2.42636646e+01\n",
            "  5.76157466e+01  1.27812142e+03 -2.23986944e+03  2.22825472e+02\n",
            " -2.18201083e+00  4.29960320e+01 -1.33981515e+01 -1.93893485e+01\n",
            " -2.57541277e+00 -8.10130128e+01  9.66019367e+00  4.91423718e+00\n",
            " -8.12114800e-01 -7.64694179e+00  3.37837099e+01 -1.14464390e+01\n",
            "  6.85083979e+01 -1.73753604e+01  4.28128204e+01  1.13988209e+00\n",
            " -7.72696840e-01  5.68255921e+01  1.42875996e+01  5.39551110e+01\n",
            " -3.21709644e+01  1.92709675e+01 -1.38852338e+01  6.06343266e+01\n",
            " -1.23153942e+01 -1.20041365e+01 -1.77243899e+01 -3.39868183e+01\n",
            "  7.08999816e+00 -9.22538241e+00  1.71980268e+01 -1.27718431e+01\n",
            " -1.19727581e+01  5.73871915e+01 -1.75331865e+01  4.10103194e+00\n",
            "  2.93666477e+01 -1.76611772e+01  7.84049424e+01 -3.19098015e+01\n",
            "  4.81752461e+01 -3.95344813e+01  5.22959055e+00  2.19982410e+01\n",
            "  2.56483934e+01 -4.99982035e+01  2.91457545e+01  8.94267456e+00\n",
            " -7.16599297e+01 -2.28147862e+01  8.40660981e+00 -5.37905422e+00\n",
            "  1.20137322e+00 -5.20877186e+00  4.11452351e+01 -3.78250760e+01\n",
            " -2.67163851e+00 -2.55217108e+01 -3.33982030e+01  4.62272693e+01\n",
            " -2.41509169e+01 -1.77532970e+01 -1.39723701e+01 -2.35522208e+01\n",
            "  3.68353800e+01 -9.46890859e+01  1.44302810e+02 -1.51158659e+01\n",
            " -1.49513436e+01 -2.87729579e+01 -3.17673192e+01  2.49551594e+01\n",
            " -1.84384534e+01  3.65073948e+00  1.73101122e+00  3.53617137e+01\n",
            "  1.19553429e+01  6.77025947e-01  2.73452009e+00  3.03720012e+01]\n",
            "lr.intercept: 30.93456367364464\n",
            "Training Accuracy Rate: 0.9520519609032727\n",
            "Test Accuracy Rate: 0.6074721959665571\n"
          ],
          "name": "stdout"
        }
      ]
    },
    {
      "cell_type": "code",
      "metadata": {
        "id": "oiOyKV0OQkPs",
        "colab_type": "code",
        "colab": {
          "base_uri": "https://localhost:8080/",
          "height": 510
        },
        "outputId": "a72494a5-0c1d-447e-e99f-a5d72b45ef8d"
      },
      "source": [
        "from sklearn.linear_model import Ridge\n",
        "ridge = Ridge().fit(X_train,y_train)\n",
        "print(\"ridge.coef: {}\".format(ridge.coef_))\n",
        "print(\"ridge.intercept: {}\".format(ridge.intercept_))\n",
        "print(\"Training Accuracy Rate(Ridge): {}\".format(ridge.score(X_train,y_train)))\n",
        "print(\"Test Accuracy Rate(Ridge): {}\".format(ridge.score(X_test,y_test)))\n"
      ],
      "execution_count": 7,
      "outputs": [
        {
          "output_type": "stream",
          "text": [
            "ridge.coef: [-1.41368408e+00 -1.55661895e+00 -1.46543409e+00 -1.26616071e-01\n",
            " -7.91193605e-02  8.33161023e+00  2.54975060e-01 -4.94145701e+00\n",
            "  3.89862268e+00 -1.05866058e+00 -1.58433734e+00  1.05103856e+00\n",
            " -4.01220799e+00  3.33720475e-01  3.64725471e-03 -8.49295793e-01\n",
            "  7.44989267e-01 -1.43106836e+00 -1.62981017e+00 -1.40486294e+00\n",
            " -4.47314366e-02 -1.74619880e+00 -1.46715888e+00 -1.33237111e+00\n",
            " -1.69154625e+00 -5.06179637e-01  2.62197591e+00 -2.09210002e+00\n",
            "  1.95074661e-01 -2.75469422e-01  5.11308202e+00 -1.67083739e+00\n",
            " -9.81863179e-02  6.34477127e-01 -6.10008281e-01  4.01805897e-02\n",
            " -1.27661999e+00 -2.91349679e+00  3.39544035e+00  7.91904036e-01\n",
            "  1.35260232e+00 -4.03661265e+00  2.32361734e+00 -3.36712926e+00\n",
            "  1.81279204e+00  3.01566897e+00 -1.89452070e+00 -2.50844073e-01\n",
            " -2.89543735e+00 -1.26616071e-01 -5.00217192e+00 -2.43951806e+00\n",
            "  2.85071846e+00 -8.57081177e-01  2.99141960e+00  2.34589755e+00\n",
            "  1.31207081e+00  1.71845119e+00 -2.59766697e+00 -1.32370675e+00\n",
            " -2.81242223e+00 -2.09117058e+00 -1.08428335e+00 -2.73843625e+00\n",
            " -1.61989753e+00 -2.80493280e+00  9.44641482e-01 -1.65363374e+00\n",
            "  1.66553558e+01 -1.10980551e+00  2.14188605e+00 -8.03855387e+00\n",
            " -8.59149928e+00 -7.54161099e+00  1.02924022e+01 -7.96425897e+00\n",
            "  7.68540742e-01 -1.85213002e+00  2.51497387e+00 -3.42074257e-01\n",
            " -1.79604278e+00 -2.93048162e-01 -4.78242379e+00  8.63283317e-01\n",
            "  4.22361423e-01 -1.41656695e+00 -2.12023113e-01 -5.08121369e+00\n",
            " -5.47247509e-01  1.53835390e+00  1.81348033e+00  1.97252021e+00\n",
            "  1.81849652e+00 -7.14338697e+00  1.10472533e+00  1.42242216e+00\n",
            " -1.31494020e+00 -6.77170441e+00  1.82204476e+00 -2.36112444e+00\n",
            "  4.34670572e-02  1.20886000e+00 -6.32599163e+00  1.03600231e+01]\n",
            "ridge.intercept: 21.390525958609967\n",
            "Training Accuracy Rate(Ridge): 0.8857966585170941\n",
            "Test Accuracy Rate(Ridge): 0.7527683481744751\n"
          ],
          "name": "stdout"
        }
      ]
    },
    {
      "cell_type": "code",
      "metadata": {
        "id": "5F6oyVMMRvk_",
        "colab_type": "code",
        "colab": {
          "base_uri": "https://localhost:8080/",
          "height": 296
        },
        "outputId": "660a5ef1-0a1b-4f85-9816-c6e35425afdc"
      },
      "source": [
        "import numpy as np\n",
        "training_accuracy=[]\n",
        "test_accuracy=[]\n",
        "alpha_range = np.linspace(0.1,1)\n",
        "for i in alpha_range:\n",
        "  ridge = Ridge(alpha=i).fit(X_train,y_train)\n",
        "  training_accuracy.append(ridge.score(X_train,y_train))\n",
        "  test_accuracy.append(ridge.score(X_test,y_test))\n",
        "from matplotlib import pyplot as plt\n",
        "plt.plot(alpha_range,training_accuracy, label = 'training accuracy')\n",
        "plt.plot(alpha_range,test_accuracy, label ='test accuracy')\n",
        "plt.ylabel('Accuracy')\n",
        "plt.xlabel('alpha')\n",
        "plt.legend()"
      ],
      "execution_count": 20,
      "outputs": [
        {
          "output_type": "execute_result",
          "data": {
            "text/plain": [
              "<matplotlib.legend.Legend at 0x7f5d937eab00>"
            ]
          },
          "metadata": {
            "tags": []
          },
          "execution_count": 20
        },
        {
          "output_type": "display_data",
          "data": {
            "image/png": "[encoded data removed]",
            "text/plain": [
              "<Figure size 432x288 with 1 Axes>"
            ]
          },
          "metadata": {
            "tags": [],
            "needs_background": "light"
          }
        }
      ]
    },
    {
      "cell_type": "code",
      "metadata": {
        "id": "_AvbT_UKTz0X",
        "colab_type": "code",
        "colab": {
          "base_uri": "https://localhost:8080/",
          "height": 510
        },
        "outputId": "ed6d5607-ee21-49f0-e210-8e940738d5dd"
      },
      "source": [
        "ridge = Ridge(alpha=0.1).fit(X_train,y_train)\n",
        "print(\"ridge.coef: {}\".format(ridge.coef_))\n",
        "print(\"ridge.intercept: {}\".format(ridge.intercept_))\n",
        "print(\"Training Accuracy Rate(Ridge): {}\".format(ridge.score(X_train,y_train)))\n",
        "print(\"Test Accuracy Rate(Ridge): {}\".format(ridge.score(X_test,y_test)))"
      ],
      "execution_count": 15,
      "outputs": [
        {
          "output_type": "stream",
          "text": [
            "ridge.coef: [-2.33300720e+00 -5.44192850e+00 -6.12865463e+00 -7.78524693e-01\n",
            "  1.29152995e+00  1.90222839e+01  4.35864731e+00 -1.11911067e+01\n",
            "  9.55539672e+00 -7.48671406e-01 -5.33307088e-01  6.23384946e+00\n",
            " -2.72886731e+00  5.86117121e+00  2.28233711e-02 -9.01608311e-01\n",
            "  4.66756441e+00 -3.37983354e+00  1.31611460e+00 -3.48895554e+00\n",
            "  4.41536215e-01 -3.51941085e+00 -2.52222659e+00 -2.69562070e+00\n",
            "  2.44649480e-01 -1.02306604e+00  3.04223584e+00 -2.68804128e+00\n",
            "  4.28396019e+00 -2.94109311e+00  8.70934702e+00 -3.13683472e+00\n",
            " -2.91608183e-01  2.17487375e+00  3.62658111e+00  2.30047840e+00\n",
            " -2.83789461e+00 -6.17207969e+00  7.94858912e+00  1.65631996e+00\n",
            "  8.72779643e+00  1.08042552e+00  5.72208008e+00 -4.76401068e+00\n",
            "  5.07461001e+00  8.01603635e+00 -8.44254041e+00 -6.44526450e-01\n",
            " -1.42288399e+01 -7.78524693e-01 -1.38982595e+01 -1.59298479e+01\n",
            "  6.42600904e+00 -1.85273659e+00  6.37949850e+00  4.03122648e+00\n",
            " -9.48053011e-01  1.11134392e+01 -6.97597662e+00 -6.71608608e-01\n",
            " -2.57821560e+00 -6.75682968e+00 -6.64502320e-01 -6.51766291e+00\n",
            " -1.39428124e+00 -5.01222387e+00  4.95142754e-01  4.28518263e+00\n",
            "  2.07929059e+01 -8.25633566e+00  4.23355958e+00 -1.42148213e+01\n",
            " -1.50040331e+01 -1.81482746e+01  1.29863847e+01 -7.81521793e+00\n",
            "  4.17140075e-02  2.98000026e+00  1.11635112e+01 -3.15698906e+00\n",
            " -3.38217977e-02 -4.16581719e+00 -1.16026109e+01  1.06340583e+01\n",
            "  3.69989958e+00  2.57472915e+00 -4.90940106e-01 -1.25359509e+01\n",
            "  4.66411178e+00 -4.68023584e+00  4.82063467e+00  3.90895995e+00\n",
            " -2.35620652e+00 -1.28782370e+01 -7.79203331e-01  8.56450892e+00\n",
            " -2.85003291e+00 -1.34581797e+01  3.82432768e+00 -5.59661786e-01\n",
            "  4.94747863e+00  2.66776499e+00 -6.90762636e+00  2.42585962e+01]\n",
            "ridge.intercept: 11.119688524319244\n",
            "Training Accuracy Rate(Ridge): 0.9282273685001992\n",
            "Test Accuracy Rate(Ridge): 0.7722067936479818\n"
          ],
          "name": "stdout"
        }
      ]
    },
    {
      "cell_type": "code",
      "metadata": {
        "id": "uUH8o61pdA9T",
        "colab_type": "code",
        "colab": {
          "base_uri": "https://localhost:8080/",
          "height": 68
        },
        "outputId": "04490954-4a57-454b-b976-9a05095e9cf7"
      },
      "source": [
        "from sklearn.linear_model import Lasso\n",
        "lasso =Lasso().fit(X_train,y_train)\n",
        "print(\"Training Accuracy Prediction: {}\".format(lasso.score(X_train,y_train)))\n",
        "print(\"Test Accuracy Prediction: {}\".format(lasso.score(X_test,y_test)))\n",
        "print(\"No. of features used: {}\".format(np.sum(lasso.coef_!= 0 )))"
      ],
      "execution_count": 34,
      "outputs": [
        {
          "output_type": "stream",
          "text": [
            "Training Accuracy Prediction: 0.29323768991114607\n",
            "Test Accuracy Prediction: 0.20937503255272294\n",
            "No. of features used: 4\n"
          ],
          "name": "stdout"
        }
      ]
    },
    {
      "cell_type": "code",
      "metadata": {
        "id": "We4ehxugeRF_",
        "colab_type": "code",
        "colab": {
          "base_uri": "https://localhost:8080/",
          "height": 68
        },
        "outputId": "9feef0e3-e42c-45c7-8edf-59bb131b75f8"
      },
      "source": [
        "lasso =Lasso(alpha = 0.01, max_iter=100000).fit(X_train,y_train)\n",
        "print(\"Training Accuracy Prediction: {}\".format(lasso.score(X_train,y_train)))\n",
        "print(\"Test Accuracy Prediction: {}\".format(lasso.score(X_test,y_test)))\n",
        "print(\"No. of features used: {}\".format(np.sum(lasso.coef_!= 0 )))"
      ],
      "execution_count": 44,
      "outputs": [
        {
          "output_type": "stream",
          "text": [
            "Training Accuracy Prediction: 0.8962226511086497\n",
            "Test Accuracy Prediction: 0.7656571174549982\n",
            "No. of features used: 33\n"
          ],
          "name": "stdout"
        }
      ]
    }
  ]
}